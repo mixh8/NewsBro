{
 "cells": [
  {
   "cell_type": "code",
   "execution_count": 1,
   "metadata": {},
   "outputs": [
    {
     "name": "stderr",
     "output_type": "stream",
     "text": [
      "/Users/michelmaalouli/Desktop/Projects/NewsBro/newsbro/lib/python3.10/site-packages/tqdm/auto.py:21: TqdmWarning: IProgress not found. Please update jupyter and ipywidgets. See https://ipywidgets.readthedocs.io/en/stable/user_install.html\n",
      "  from .autonotebook import tqdm as notebook_tqdm\n"
     ]
    }
   ],
   "source": [
    "from transformers import pipeline"
   ]
  },
  {
   "cell_type": "code",
   "execution_count": 2,
   "metadata": {},
   "outputs": [],
   "source": [
    "LEX1 = \"\"\"\n",
    "“Altman’s departure follows a deliberative review process by the board, which concluded that he was not consistently candid in his communications with the board, hindering its ability to exercise its responsibilities,” the company said in its blog post.\n",
    "“The board no longer has confidence in his ability to continue leading OpenAI.”\n",
    "“It was transformative for me personally, and hopefully the world a little bit.” In a follow-up post, he described the experience of his firing as “sorta like reading your own eulogy while you’re still alive.” OpenAI’s announcement also said that co-founder and president Greg Brockman will be stepping down as chairman of the board but remain at the company.\n",
    "Hours after it was published, Brockman posted to X that he had quit “based on today’s news.”Later, in another post on X, Brockman said he and Altman were both notified of their removal from the board on Friday by OpenAI co-founder and chief scientist Ilya Sutskever, who is also a board member.\n",
    "Altman is a co-founder of OpenAI and initially served as a co-chair of the company alongside Elon Musk.\n",
    "\"\"\"\n",
    "\n",
    "LEX2 = \"\"\"\n",
    "“Altman’s departure follows a deliberative review process by the board, which concluded that he was not consistently candid in his communications with the board, hindering its ability to exercise its responsibilities,” the company said in its statement.\n",
    "He also shared about 2 million developers now use the platform, and about 90% of Fortune 500 companies are using the tools internally.\n",
    "The technology is called generative AI and has since been deployed by Microsoft on its search engine and other tools.\n",
    "Although Altman has long been an advocate of AI, he is also one of its biggest critics.\n",
    "In testimony before Congress earlier this year, Altman described the technology’s current boom as a pivotal moment.“Is [AI] gonna be like the printing press that diffused knowledge, power, and learning widely across the landscape that empowered ordinary, everyday individuals that led to greater flourishing, that led above all to greater liberty?” he said.\n",
    "\"\"\"\n",
    "\n",
    "LEXCOMBINED = \"\"\"\n",
    "The news follows OpenAI’s first developer conference held in San Francisco last week, where Altman served as the master of ceremonies, unveiling a series of new artificial intelligence tool updates, including the ability for developers to create custom versions of ChatGPT.\n",
    "The technology is called generative AI and has since been deployed by Microsoft on its search engine and other tools.\n",
    "“Altman’s departure follows a deliberative review process by the board, which concluded that he was not consistently candid in his communications with the board, hindering its ability to exercise its responsibilities,” the company said in its blog post.\n",
    "“It was transformative for me personally, and hopefully the world a little bit.” In a follow-up post, he described the experience of his firing as “sorta like reading your own eulogy while you’re still alive.” OpenAI’s announcement also said that co-founder and president Greg Brockman will be stepping down as chairman of the board but remain at the company.\n",
    "Hours after it was published, Brockman posted to X that he had quit “based on today’s news.”Later, in another post on X, Brockman said he and Altman were both notified of their removal from the board on Friday by OpenAI co-founder and chief scientist Ilya Sutskever, who is also a board member.\n",
    "\"\"\""
   ]
  },
  {
   "cell_type": "code",
   "execution_count": 5,
   "metadata": {},
   "outputs": [
    {
     "name": "stdout",
     "output_type": "stream",
     "text": [
      "[{'summary_text': 'OpenAI co-founder and president Greg Brockman will be stepping down as chairman of the board but remain at the company. Brockman says he and Altman were both notified of their removal from the board on Friday.'}]\n",
      "[{'summary_text': 'OpenAI co-founder and president Greg Brockman will be stepping down as chairman of the board but remain at the company. Brockman says he and Altman were both notified of their removal from the board on Friday.'}]\n"
     ]
    }
   ],
   "source": [
    "summarizer = pipeline(\"summarization\", model=\"facebook/bart-large-cnn\")\n",
    "print(summarizer(LEX1, max_length=200, min_length=30, do_sample=False))\n",
    "print(summarizer(LEX2, max_length=200, min_length=30, do_sample=False))\n"
   ]
  }
 ],
 "metadata": {
  "kernelspec": {
   "display_name": "newsbro",
   "language": "python",
   "name": "python3"
  },
  "language_info": {
   "codemirror_mode": {
    "name": "ipython",
    "version": 3
   },
   "file_extension": ".py",
   "mimetype": "text/x-python",
   "name": "python",
   "nbconvert_exporter": "python",
   "pygments_lexer": "ipython3",
   "version": "3.10.13"
  }
 },
 "nbformat": 4,
 "nbformat_minor": 2
}
