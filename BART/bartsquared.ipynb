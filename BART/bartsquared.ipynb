{
 "cells": [
  {
   "cell_type": "code",
   "execution_count": 1,
   "metadata": {},
   "outputs": [
    {
     "name": "stderr",
     "output_type": "stream",
     "text": [
      "/Users/michelmaalouli/Desktop/Projects/NewsBro/newsbro/lib/python3.10/site-packages/tqdm/auto.py:21: TqdmWarning: IProgress not found. Please update jupyter and ipywidgets. See https://ipywidgets.readthedocs.io/en/stable/user_install.html\n",
      "  from .autonotebook import tqdm as notebook_tqdm\n"
     ]
    }
   ],
   "source": [
    "from transformers import BartTokenizer, BartForConditionalGeneration\n",
    "import torch"
   ]
  },
  {
   "cell_type": "code",
   "execution_count": 2,
   "metadata": {},
   "outputs": [],
   "source": [
    "ARTICLE1 = \"\"\" Sam Altman has been fired as CEO of OpenAI, the company announced on Friday.\n",
    "\n",
    "“Mr. Altman’s departure follows a deliberative review process by the board, which concluded that he was not consistently candid in his communications with the board, hindering its ability to exercise its responsibilities,” the company said in its blog post. “The board no longer has confidence in his ability to continue leading OpenAI.”\n",
    "\n",
    "Chief technology officer Mira Murati will be the interim CEO, effective immediately. The company will be conducting a search for a permanent CEO successor. When contacted by The Verge, OpenAI’s communications department declined to comment beyond the blog post. Employees at OpenAI found out about the news when it was announced publicly, according to multiple sources.\n",
    "\n",
    "“I loved my time at OpenAI,” Altman said in a post on X (formerly Twitter). “It was transformative for me personally, and hopefully the world a little bit.” In a follow-up post, he described the experience of his firing as “sorta like reading your own eulogy while you’re still alive.”\n",
    "OpenAI’s announcement also said that co-founder and president Greg Brockman will be stepping down as chairman of the board but remain at the company. Hours after it was published, Brockman posted to X that he had quit “based on today’s news.”Later, in another post on X, Brockman said he and Altman were both notified of their removal from the board on Friday by OpenAI co-founder and chief scientist Ilya Sutskever, who is also a board member. “Sam and I are shocked and saddened by what the board did today,” Brockman wrote.This is an extremely sudden turn of events. Altman has been the face of OpenAI, which kick-started the current AI arms race with last year’s hugely popular release of ChatGPT. Just last week, Altman led the keynote at the company’s first-ever DevDay conference, where it announced a suite of major new updates to compete with other big tech companies like Microsoft and Google. More recently, Altman spoke at Thursday’s Asia-Pacific Economic Cooperation conference.Microsoft, which has invested billions in OpenAI, tells The Verge it will continue to partner with the company. “We have a long-term partnership with OpenAI and Microsoft remains committed to Mira and their team as we bring this next era of AI to our customers,” according to a statement sent by Microsoft spokesperson Frank Shaw. Microsoft CEO Satya Nadella made a similar statement on X.Altman has reportedly talked with Jony Ive, Apple’s former chief design officer, about making the “iPhone of artificial intelligence,” though Altman downplayed those rumors at a recent Wall Street Journal conference. He’s also the biggest shareholder in Humane, which just launched orders for its Humane AI Pin.\n",
    "\n",
    "Altman is a co-founder of OpenAI and initially served as a co-chair of the company alongside Elon Musk. Musk left in 2018 to avoid a conflict of interest with Tesla. He has since founded his own AI company, xAI.\n",
    "\n",
    "Unlike traditional private company boards, OpenAI’s board consists mostly of outsiders. After Altman and Brockman’s departures, its remaining board members are the company’s chief scientist, Ilya Sutskever, Quora CEO Adam D’Angelo, Tasha McCauley, the former CEO of GeoSim Systems, and Helen Toner, the director of strategy at Georgetown’s Center for Security and Emerging Technology.\n",
    "\"\"\"\n",
    "\n",
    "ARTICLE2 = \"\"\"\n",
    "OpenAI, the company behind the viral chatbot ChatGPT, fired its CEO and founder, Sam Altman, on Friday. His stunning departure sent shockwaves through the budding AI industry.\n",
    "\n",
    "The company, in a statement, said an internal investigation found that Altman was not always truthful with the board.\n",
    "\n",
    "“Mr. Altman’s departure follows a deliberative review process by the board, which concluded that he was not consistently candid in his communications with the board, hindering its ability to exercise its responsibilities,” the company said in its statement. “The board no longer has confidence in his ability to continue leading OpenAI.”\n",
    "OpenAI announced Mira Murati, the company’s chief technology officer, will serve as interim CEO until a permanent successor is chosen.\n",
    "\n",
    "In a tweet following the news, Altman said he “loved my time at openai.”\n",
    "\n",
    "‘it was transformative for me personally, and hopefully the world a little bit. most of all i loved working with such talented people,” he said. “will have more to say about what’s next later.”\n",
    "\n",
    "The news follows OpenAI’s first developer conference held in San Francisco last week, where Altman served as the master of ceremonies, unveiling a series of new artificial intelligence tool updates, including the ability for developers to create custom versions of ChatGPT. He also shared about 2 million developers now use the platform, and about 90% of Fortune 500 companies are using the tools internally. It currently has 100 million active users.ChatGPT launched late last year, making Altman an overnight quasi-celebrity and the face of a new crop of AI tools that can generate images and texts in response to simple user prompts. The technology is called generative AI and has since been deployed by Microsoft on its search engine and other tools. Google has a rival called “Bard,” and other generative AI tools have been developed in recent months.\n",
    "\n",
    "Not long after its release, ChatGPT became a household name almost synonymous with AI itself. CEOs used it to draft emails, people built websites with no prior coding experience, and it passed exams from law and business schools.\n",
    "\n",
    "Although Altman has long been an advocate of AI, he is also one of its biggest critics. In testimony before Congress earlier this year, Altman described the technology’s current boom as a pivotal moment.“Is [AI] gonna be like the printing press that diffused knowledge, power, and learning widely across the landscape that empowered ordinary, everyday individuals that led to greater flourishing, that led above all to greater liberty?” he said. “Or is it gonna be more like the atom bomb – huge technological breakthrough, but the consequences (severe, terrible) continue to haunt us to this day?”\n",
    "\n",
    "He was also one of several tech CEOs to meet with White House leaders, including Vice President Kamala Harris and President Joe Biden, this year to emphasize the importance of ethical and responsible AI development.Others wanted Altman and OpenAI to move more cautiously. Elon Musk, who helped found OpenAI before breaking from the group, and dozens of tech leaders, professors and researchers in urged artificial intelligence labs like OpenAI to stop the training of the most powerful AI systems for at least six months, citing “profound risks to society and humanity.” (At the same time, some experts questioned if those who signed the letter sought to maintain their competitive edge over other companies.)\n",
    "\n",
    "OpenAI declined CNN’s request for further comment.\n",
    "\n",
    "Arun Chandrasekaran, an analyst at Gartner Research, called Altman’s exit “shocking,” as he’s been championing OpenAI’s cause with developers, consumers, regulators and others. “I am sure the OpenAI board took this decision after a lot of deliberation,” he said.\n",
    "\n",
    "“OpenAI does have a deep bench of technical leaders and it will be interesting to see how its next generation of leaders steer by continuing its fast paced innovation culture, scaling the business and meeting the expectations of regulators and society at large.”\n",
    "\n",
    "Murati was born and raised in Albania and studied engineering at Dartmouth. She joined OpenAI in 2018. Previously, she managed the product and engineering teams at augmented reality company Ultraleap (then called Leap Motion) and earlier worked at Tesla, where she helped develop the Model X.\n",
    "\n",
    "The news shocked AI insiders, analysts and tech executives alike. Microsoft, which poured millions of dollars into Open AI earlier this year, told CNN in a statement it “remains committed to Mira and their team as we bring this next era of AI to our customers,” according to a company spokesperson.\n",
    "\n",
    "Microsoft’s stock price slid 1.6% Friday and fell about another 1% in afterhours trading.\n",
    "\n",
    "In a tweet, former Google CEO Eric Schmidt called Altman “a hero of mine.”\n",
    "\n",
    "“He built a company from nothing to $90 Billion in value, and changed our collective world forever,” Schmidt said. “I can’t wait to see what he does next. I, and billions of people, will benefit from his future work- it’s going to be simply incredible. Thank you [Altman] for all you have done for all of us.”\n",
    "\n",
    "Reece Hayden, an analyst at ABI Research, said this could be a “big blow” for commentators calling for AI regulation.\n",
    "\n",
    "“Sam Altman has been a passionate advocate for this, and this could signal that OpenAI are leaning towards a more self-regulatory approach,” Hayden said.\n",
    "\n",
    "\"\"\""
   ]
  },
  {
   "cell_type": "code",
   "execution_count": 9,
   "metadata": {},
   "outputs": [
    {
     "name": "stderr",
     "output_type": "stream",
     "text": [
      "Token indices sequence length is longer than the specified maximum sequence length for this model (1229 > 1024). Running this sequence through the model will result in indexing errors\n",
      "\n",
      "No chat template is defined for this tokenizer - using a default chat template that implements the ChatML format. If the default is not appropriate for your model, please set `tokenizer.chat_template` to an appropriate template. See https://huggingface.co/docs/transformers/main/chat_templating for more information.\n",
      "\n"
     ]
    },
    {
     "name": "stdout",
     "output_type": "stream",
     "text": [
      "inputs:  [tensor([[    0, 50118, 25266,  ...,  4032,     4, 50118]]), tensor([[50118, 35460,    17,    27,    29,   388,   425, 13763,   112,     4,\n",
      "           401,   207,   273,     8,  1064,    59,   277,   112,   207,    11,\n",
      "            71, 21719,  1446,     4, 50118, 50118,  1121,    10,  3545,     6,\n",
      "           320,  1204,  1324,  2954, 13128,   373,  7330,   397,    44,    48,\n",
      "           102,  6132,     9,  4318,     4,    17,    46, 50118, 50118,    17,\n",
      "            48,   894,  1490,    10,   138,    31,  1085,     7,    68,  3248,\n",
      "         17102,    11,   923,     6,     8,  1714,    84,  6981,   232,  6000,\n",
      "             6,    17,    46, 13128,    26,     4,    44,    48,   100,    64,\n",
      "            17,    27,    90,  2067,     7,   192,    99,    37,   473,   220,\n",
      "             4,    38,     6,     8,  6685,     9,    82,     6,    40,  1796,\n",
      "            31,    39,   499,   173,    12,    24,    17,    27,    29,   164,\n",
      "             7,    28,  1622,  3997,     4,  3837,    47,   646, 41622,   397,\n",
      "           742,    13,    70,    47,    33,   626,    13,    70,     9,   201,\n",
      "             4,    17,    46, 50118, 50118,   500,  1942,  1755, 18703,     6,\n",
      "            41,  2066,    23,    83,  5383,  1624,     6,    26,    42,   115,\n",
      "            28,    10,    44,    48,  8527,  4627,    17,    46,    13, 22800,\n",
      "          1765,    13,  4687,  5746,     4, 50118, 50118,    17,    48, 21169,\n",
      "          7330,   397,    34,    57,    10,  8840,  7156,    13,    42,     6,\n",
      "             8,    42,   115,  6029,    14,  2117, 15238,    32, 19146,  1567,\n",
      "            10,    55,  1403,    12,  4950, 25911,  1548,     6,    17,    46,\n",
      "         18703,    26,     4, 50140,     2]])]\n",
      "Sam Altman, founder of AI company OpenAI, is fired. The company said an internal investigation found that Altman was not always truthful with the board. Mira Murati, the company’s chief technology officer, will serve as interim CEO until a permanent successor is chosen.ChatGPT launched late last year, making Altman an overnight celebrity.\n",
      "Microsoft’s stock price slid 1.6% Friday and fell about another 1% in afterhours trading. In a tweet, former Google CEO Eric Schmidt called Altman “a hero of mine.” He built a company from nothing to $90 Billion in value, and changed our collective world forever, Schmidt said.\n"
     ]
    }
   ],
   "source": [
    "long_text = ARTICLE2\n",
    "\n",
    "model = BartForConditionalGeneration.from_pretrained('facebook/bart-large-cnn')\n",
    "tokenizer = BartTokenizer.from_pretrained('facebook/bart-large-cnn')\n",
    "\n",
    "# tokenize without truncation\n",
    "inputs_no_trunc = tokenizer(long_text, max_length=None, return_tensors='pt', truncation=False)\n",
    "\n",
    "# get batches of tokens corresponding to the exact model_max_length\n",
    "chunk_start = 0\n",
    "chunk_end = tokenizer.model_max_length  # == 1024 for Bart\n",
    "inputs_batch_lst = []\n",
    "while chunk_start <= len(inputs_no_trunc['input_ids'][0]):\n",
    "    inputs_batch = inputs_no_trunc['input_ids'][0][chunk_start:chunk_end]  # get batch of n tokens\n",
    "    inputs_batch = torch.unsqueeze(inputs_batch, 0)\n",
    "    inputs_batch_lst.append(inputs_batch)\n",
    "    chunk_start += tokenizer.model_max_length  # == 1024 for Bart\n",
    "    chunk_end += tokenizer.model_max_length  # == 1024 for Bart\n",
    "\n",
    "print(\"inputs: \", inputs_batch_lst)\n",
    "# generate a summary on each batch\n",
    "summary_ids_lst = [model.generate(inputs, num_beams=4, max_length=100, early_stopping=True) for inputs in inputs_batch_lst]\n",
    "\n",
    "# decode the output and join into one string with one paragraph per summary batch\n",
    "summary_batch_lst = []\n",
    "for summary_id in summary_ids_lst:\n",
    "    summary_batch = [tokenizer.decode(g, skip_special_tokens=True, clean_up_tokenization_spaces=False) for g in summary_id]\n",
    "    summary_batch_lst.append(summary_batch[0])\n",
    "summary_all = '\\n'.join(summary_batch_lst)\n",
    "\n",
    "print(summary_all)"
   ]
  }
 ],
 "metadata": {
  "kernelspec": {
   "display_name": "newsbro",
   "language": "python",
   "name": "python3"
  },
  "language_info": {
   "codemirror_mode": {
    "name": "ipython",
    "version": 3
   },
   "file_extension": ".py",
   "mimetype": "text/x-python",
   "name": "python",
   "nbconvert_exporter": "python",
   "pygments_lexer": "ipython3",
   "version": "3.10.13"
  }
 },
 "nbformat": 4,
 "nbformat_minor": 2
}
